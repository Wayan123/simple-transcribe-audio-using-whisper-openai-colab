{
  "nbformat": 4,
  "nbformat_minor": 0,
  "metadata": {
    "colab": {
      "private_outputs": true,
      "provenance": [],
      "gpuType": "T4"
    },
    "kernelspec": {
      "name": "python3",
      "display_name": "Python 3"
    },
    "language_info": {
      "name": "python"
    },
    "accelerator": "GPU"
  },
  "cells": [
    {
      "cell_type": "code",
      "source": [
        "!pip -q install git+https://github.com/openai/whisper.git"
      ],
      "metadata": {
        "id": "PFBY1H9IVd7d"
      },
      "execution_count": null,
      "outputs": []
    },
    {
      "cell_type": "markdown",
      "source": [
        "## Whisper medium model"
      ],
      "metadata": {
        "id": "xvViTdCxxuL_"
      }
    },
    {
      "cell_type": "code",
      "execution_count": null,
      "metadata": {
        "id": "fZhsawNVVDGf"
      },
      "outputs": [],
      "source": [
        "import whisper\n",
        "import time\n",
        "import os\n",
        "\n",
        "# Memulai waktu transkripsi\n",
        "start_time = time.time()\n",
        "\n",
        "model = whisper.load_model(\"medium\")\n",
        "result = model.transcribe(\"amin.mp3\")\n",
        "print(result[\"text\"])\n",
        "\n",
        "# Menghentikan waktu transkripsi\n",
        "end_time = time.time()\n",
        "\n",
        "# Hitung durasi transkripsi\n",
        "transcription_duration = end_time - start_time\n",
        "print(f\"Waktu transkripsi: {transcription_duration:.2f} detik\")\n",
        "\n",
        "# Menghasilkan nama file berdasarkan indeks\n",
        "output_index = 1\n",
        "output_path = f\"output-transcribe{output_index}.txt\"\n",
        "\n",
        "# Cek apakah file dengan nama tersebut sudah ada, jika iya, tambahkan indeks\n",
        "while os.path.exists(output_path):\n",
        "    output_index += 1\n",
        "    output_path = f\"output-transcribe{output_index}.txt\"\n",
        "\n",
        "# Simpan hasil transkripsi ke dalam file teks\n",
        "with open(output_path, \"w\", encoding=\"utf-8\") as output_file:\n",
        "    output_file.write(result[\"text\"])\n",
        "\n",
        "print(f\"Hasil transkripsi telah disimpan di {output_path}\")\n"
      ]
    }
  ]
}